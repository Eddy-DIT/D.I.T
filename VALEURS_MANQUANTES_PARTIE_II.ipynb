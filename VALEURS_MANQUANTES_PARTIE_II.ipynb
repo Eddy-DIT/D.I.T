{
 "cells": [
  {
   "cell_type": "code",
   "execution_count": 9,
   "metadata": {},
   "outputs": [],
   "source": [
    "import pandas as pd\n",
    "import numpy as np"
   ]
  },
  {
   "attachments": {},
   "cell_type": "markdown",
   "metadata": {},
   "source": [
    "---\n",
    "$REMPLACER$ LES $NaN$ par *$FFILL$* et *$BFILL$*"
   ]
  },
  {
   "cell_type": "code",
   "execution_count": 2,
   "metadata": {},
   "outputs": [],
   "source": [
    "df = pd.DataFrame(\n",
    "                   {'A': [2.0, 1.21, np.nan, 3.5, np.nan],\n",
    "                    'B': [2.2, 3.13, 3.01, 2.3, np.nan],\n",
    "                    'C': [1.33, 2.09, 3.00, np.nan, np.nan],\n",
    "                    'D': [np.nan, 5.5, 2.18, 5.00, np.nan],\n",
    "                    }\n",
    "                )"
   ]
  },
  {
   "cell_type": "code",
   "execution_count": 3,
   "metadata": {},
   "outputs": [
    {
     "data": {
      "text/html": [
       "<style type=\"text/css\">\n",
       "#T_df0b7_row0_col3, #T_df0b7_row2_col0, #T_df0b7_row3_col2, #T_df0b7_row4_col0, #T_df0b7_row4_col1, #T_df0b7_row4_col2, #T_df0b7_row4_col3 {\n",
       "  background-color: red;\n",
       "}\n",
       "</style>\n",
       "<table id=\"T_df0b7\">\n",
       "  <thead>\n",
       "    <tr>\n",
       "      <th class=\"blank level0\" >&nbsp;</th>\n",
       "      <th id=\"T_df0b7_level0_col0\" class=\"col_heading level0 col0\" >A</th>\n",
       "      <th id=\"T_df0b7_level0_col1\" class=\"col_heading level0 col1\" >B</th>\n",
       "      <th id=\"T_df0b7_level0_col2\" class=\"col_heading level0 col2\" >C</th>\n",
       "      <th id=\"T_df0b7_level0_col3\" class=\"col_heading level0 col3\" >D</th>\n",
       "    </tr>\n",
       "  </thead>\n",
       "  <tbody>\n",
       "    <tr>\n",
       "      <th id=\"T_df0b7_level0_row0\" class=\"row_heading level0 row0\" >0</th>\n",
       "      <td id=\"T_df0b7_row0_col0\" class=\"data row0 col0\" >2.000000</td>\n",
       "      <td id=\"T_df0b7_row0_col1\" class=\"data row0 col1\" >2.200000</td>\n",
       "      <td id=\"T_df0b7_row0_col2\" class=\"data row0 col2\" >1.330000</td>\n",
       "      <td id=\"T_df0b7_row0_col3\" class=\"data row0 col3\" >nan</td>\n",
       "    </tr>\n",
       "    <tr>\n",
       "      <th id=\"T_df0b7_level0_row1\" class=\"row_heading level0 row1\" >1</th>\n",
       "      <td id=\"T_df0b7_row1_col0\" class=\"data row1 col0\" >1.210000</td>\n",
       "      <td id=\"T_df0b7_row1_col1\" class=\"data row1 col1\" >3.130000</td>\n",
       "      <td id=\"T_df0b7_row1_col2\" class=\"data row1 col2\" >2.090000</td>\n",
       "      <td id=\"T_df0b7_row1_col3\" class=\"data row1 col3\" >5.500000</td>\n",
       "    </tr>\n",
       "    <tr>\n",
       "      <th id=\"T_df0b7_level0_row2\" class=\"row_heading level0 row2\" >2</th>\n",
       "      <td id=\"T_df0b7_row2_col0\" class=\"data row2 col0\" >nan</td>\n",
       "      <td id=\"T_df0b7_row2_col1\" class=\"data row2 col1\" >3.010000</td>\n",
       "      <td id=\"T_df0b7_row2_col2\" class=\"data row2 col2\" >3.000000</td>\n",
       "      <td id=\"T_df0b7_row2_col3\" class=\"data row2 col3\" >2.180000</td>\n",
       "    </tr>\n",
       "    <tr>\n",
       "      <th id=\"T_df0b7_level0_row3\" class=\"row_heading level0 row3\" >3</th>\n",
       "      <td id=\"T_df0b7_row3_col0\" class=\"data row3 col0\" >3.500000</td>\n",
       "      <td id=\"T_df0b7_row3_col1\" class=\"data row3 col1\" >2.300000</td>\n",
       "      <td id=\"T_df0b7_row3_col2\" class=\"data row3 col2\" >nan</td>\n",
       "      <td id=\"T_df0b7_row3_col3\" class=\"data row3 col3\" >5.000000</td>\n",
       "    </tr>\n",
       "    <tr>\n",
       "      <th id=\"T_df0b7_level0_row4\" class=\"row_heading level0 row4\" >4</th>\n",
       "      <td id=\"T_df0b7_row4_col0\" class=\"data row4 col0\" >nan</td>\n",
       "      <td id=\"T_df0b7_row4_col1\" class=\"data row4 col1\" >nan</td>\n",
       "      <td id=\"T_df0b7_row4_col2\" class=\"data row4 col2\" >nan</td>\n",
       "      <td id=\"T_df0b7_row4_col3\" class=\"data row4 col3\" >nan</td>\n",
       "    </tr>\n",
       "  </tbody>\n",
       "</table>\n"
      ],
      "text/plain": [
       "<pandas.io.formats.style.Styler at 0x7fd8984cf8e0>"
      ]
     },
     "execution_count": 3,
     "metadata": {},
     "output_type": "execute_result"
    }
   ],
   "source": [
    "df.style.highlight_null(color = \"red\")"
   ]
  },
  {
   "cell_type": "code",
   "execution_count": 4,
   "metadata": {},
   "outputs": [
    {
     "name": "stdout",
     "output_type": "stream",
     "text": [
      "mean col A:  2.236666666666667\n",
      "mean col B:  2.66\n",
      "mean col C:  2.14\n",
      "mean col D:  4.226666666666667\n"
     ]
    }
   ],
   "source": [
    "print(\"mean col A: \", df['A'].mean())\n",
    "print(\"mean col B: \", df['B'].mean())\n",
    "print(\"mean col C: \", df['C'].mean())\n",
    "print(\"mean col D: \", df['D'].mean())"
   ]
  },
  {
   "cell_type": "code",
   "execution_count": 5,
   "metadata": {},
   "outputs": [
    {
     "data": {
      "text/html": [
       "<div>\n",
       "<style scoped>\n",
       "    .dataframe tbody tr th:only-of-type {\n",
       "        vertical-align: middle;\n",
       "    }\n",
       "\n",
       "    .dataframe tbody tr th {\n",
       "        vertical-align: top;\n",
       "    }\n",
       "\n",
       "    .dataframe thead th {\n",
       "        text-align: right;\n",
       "    }\n",
       "</style>\n",
       "<table border=\"1\" class=\"dataframe\">\n",
       "  <thead>\n",
       "    <tr style=\"text-align: right;\">\n",
       "      <th></th>\n",
       "      <th>A</th>\n",
       "      <th>B</th>\n",
       "      <th>C</th>\n",
       "      <th>D</th>\n",
       "    </tr>\n",
       "  </thead>\n",
       "  <tbody>\n",
       "    <tr>\n",
       "      <th>0</th>\n",
       "      <td>2.00</td>\n",
       "      <td>2.20</td>\n",
       "      <td>1.33</td>\n",
       "      <td>NaN</td>\n",
       "    </tr>\n",
       "    <tr>\n",
       "      <th>1</th>\n",
       "      <td>1.21</td>\n",
       "      <td>3.13</td>\n",
       "      <td>2.09</td>\n",
       "      <td>5.50</td>\n",
       "    </tr>\n",
       "    <tr>\n",
       "      <th>2</th>\n",
       "      <td>1.21</td>\n",
       "      <td>3.01</td>\n",
       "      <td>3.00</td>\n",
       "      <td>2.18</td>\n",
       "    </tr>\n",
       "    <tr>\n",
       "      <th>3</th>\n",
       "      <td>3.50</td>\n",
       "      <td>2.30</td>\n",
       "      <td>3.00</td>\n",
       "      <td>5.00</td>\n",
       "    </tr>\n",
       "    <tr>\n",
       "      <th>4</th>\n",
       "      <td>3.50</td>\n",
       "      <td>2.30</td>\n",
       "      <td>3.00</td>\n",
       "      <td>5.00</td>\n",
       "    </tr>\n",
       "  </tbody>\n",
       "</table>\n",
       "</div>"
      ],
      "text/plain": [
       "      A     B     C     D\n",
       "0  2.00  2.20  1.33   NaN\n",
       "1  1.21  3.13  2.09  5.50\n",
       "2  1.21  3.01  3.00  2.18\n",
       "3  3.50  2.30  3.00  5.00\n",
       "4  3.50  2.30  3.00  5.00"
      ]
     },
     "execution_count": 5,
     "metadata": {},
     "output_type": "execute_result"
    }
   ],
   "source": [
    "df.fillna(method = 'ffill')"
   ]
  },
  {
   "cell_type": "code",
   "execution_count": 7,
   "metadata": {},
   "outputs": [],
   "source": [
    "# df.fillna(method = 'ffill', limit = 1)"
   ]
  },
  {
   "cell_type": "code",
   "execution_count": 8,
   "metadata": {},
   "outputs": [
    {
     "data": {
      "text/html": [
       "<div>\n",
       "<style scoped>\n",
       "    .dataframe tbody tr th:only-of-type {\n",
       "        vertical-align: middle;\n",
       "    }\n",
       "\n",
       "    .dataframe tbody tr th {\n",
       "        vertical-align: top;\n",
       "    }\n",
       "\n",
       "    .dataframe thead th {\n",
       "        text-align: right;\n",
       "    }\n",
       "</style>\n",
       "<table border=\"1\" class=\"dataframe\">\n",
       "  <thead>\n",
       "    <tr style=\"text-align: right;\">\n",
       "      <th></th>\n",
       "      <th>A</th>\n",
       "      <th>B</th>\n",
       "      <th>C</th>\n",
       "      <th>D</th>\n",
       "    </tr>\n",
       "  </thead>\n",
       "  <tbody>\n",
       "    <tr>\n",
       "      <th>0</th>\n",
       "      <td>2.00</td>\n",
       "      <td>2.20</td>\n",
       "      <td>1.33</td>\n",
       "      <td>NaN</td>\n",
       "    </tr>\n",
       "    <tr>\n",
       "      <th>1</th>\n",
       "      <td>1.21</td>\n",
       "      <td>3.13</td>\n",
       "      <td>2.09</td>\n",
       "      <td>5.50</td>\n",
       "    </tr>\n",
       "    <tr>\n",
       "      <th>2</th>\n",
       "      <td>NaN</td>\n",
       "      <td>3.01</td>\n",
       "      <td>3.00</td>\n",
       "      <td>2.18</td>\n",
       "    </tr>\n",
       "    <tr>\n",
       "      <th>3</th>\n",
       "      <td>3.50</td>\n",
       "      <td>2.30</td>\n",
       "      <td>NaN</td>\n",
       "      <td>5.00</td>\n",
       "    </tr>\n",
       "    <tr>\n",
       "      <th>4</th>\n",
       "      <td>NaN</td>\n",
       "      <td>NaN</td>\n",
       "      <td>NaN</td>\n",
       "      <td>NaN</td>\n",
       "    </tr>\n",
       "  </tbody>\n",
       "</table>\n",
       "</div>"
      ],
      "text/plain": [
       "      A     B     C     D\n",
       "0  2.00  2.20  1.33   NaN\n",
       "1  1.21  3.13  2.09  5.50\n",
       "2   NaN  3.01  3.00  2.18\n",
       "3  3.50  2.30   NaN  5.00\n",
       "4   NaN   NaN   NaN   NaN"
      ]
     },
     "execution_count": 8,
     "metadata": {},
     "output_type": "execute_result"
    }
   ],
   "source": [
    "df"
   ]
  }
 ],
 "metadata": {
  "kernelspec": {
   "display_name": "Python 3",
   "language": "python",
   "name": "python3"
  },
  "language_info": {
   "codemirror_mode": {
    "name": "ipython",
    "version": 3
   },
   "file_extension": ".py",
   "mimetype": "text/x-python",
   "name": "python",
   "nbconvert_exporter": "python",
   "pygments_lexer": "ipython3",
   "version": "3.10.6"
  },
  "orig_nbformat": 4,
  "vscode": {
   "interpreter": {
    "hash": "916dbcbb3f70747c44a77c7bcd40155683ae19c65e1c03b4aa3499c5328201f1"
   }
  }
 },
 "nbformat": 4,
 "nbformat_minor": 2
}
